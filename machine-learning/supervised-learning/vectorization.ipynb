{
 "cells": [
  {
   "cell_type": "code",
   "execution_count": 2,
   "metadata": {},
   "outputs": [],
   "source": [
    "import numpy as np"
   ]
  },
  {
   "cell_type": "markdown",
   "metadata": {},
   "source": [
    "### Vector (1-D Array)"
   ]
  },
  {
   "cell_type": "code",
   "execution_count": 31,
   "metadata": {},
   "outputs": [
    {
     "name": "stdout",
     "output_type": "stream",
     "text": [
      "Vector 1 (3,): [1 2 3]\n",
      "Vector 2 (3,): [1 2 3]\n"
     ]
    }
   ],
   "source": [
    "v1 = np.array([1, 2, 3])\n",
    "v2 = np.array([1, 2, 3])\n",
    "print(f\"Vector 1 {v1.shape}: {v1}\")\n",
    "print(f\"Vector 2 {v2.shape}: {v2}\")"
   ]
  },
  {
   "cell_type": "code",
   "execution_count": 35,
   "metadata": {},
   "outputs": [
    {
     "name": "stdout",
     "output_type": "stream",
     "text": [
      "Dot product: 14\n",
      "Multiply: [1 4 9]\n",
      "Divide: [1. 1. 1.]\n",
      "Sum: [2 4 6]\n",
      "Minus: [0 0 0]\n"
     ]
    }
   ],
   "source": [
    "dot = np.dot(v1, v2)\n",
    "print(f\"Dot product: {dot}\")\n",
    "multiply = v1 * v2\n",
    "print(f\"Multiply: {multiply}\")\n",
    "divide = v1 / v2\n",
    "print(f\"Divide: {divide}\")\n",
    "sum = v1 + v2\n",
    "print(f\"Sum: {sum}\")\n",
    "minus = v1 - v2\n",
    "print(f\"Minus: {minus}\")"
   ]
  },
  {
   "cell_type": "markdown",
   "metadata": {},
   "source": [
    "### Matrix (2-D Array)"
   ]
  },
  {
   "cell_type": "code",
   "execution_count": 51,
   "metadata": {},
   "outputs": [
    {
     "name": "stdout",
     "output_type": "stream",
     "text": [
      "Matrix 1 (2, 4): [[1 2 3 4]\n",
      " [5 6 7 8]]\n",
      "Matrix 2 (4, 2): [[1 2]\n",
      " [3 4]\n",
      " [5 6]\n",
      " [7 8]]\n"
     ]
    }
   ],
   "source": [
    "m1 = np.array([[1, 2, 3, 4],\n",
    "               [5, 6, 7, 8]])\n",
    "m2 = np.array([[1, 2],\n",
    "               [3, 4],\n",
    "               [5, 6],\n",
    "               [7, 8]])\n",
    "print(f\"Matrix 1 {m1.shape}: {m1}\")\n",
    "print(f\"Matrix 2 {m2.shape}: {m2}\")"
   ]
  },
  {
   "cell_type": "code",
   "execution_count": 53,
   "metadata": {},
   "outputs": [
    {
     "name": "stdout",
     "output_type": "stream",
     "text": [
      "Dot product: [[ 50  60]\n",
      " [114 140]]\n"
     ]
    }
   ],
   "source": [
    "dot = np.dot(m1, m2)\n",
    "print(f\"Dot product: {dot}\")"
   ]
  },
  {
   "cell_type": "markdown",
   "metadata": {},
   "source": [
    "### Vector (1-D Array) vs Matrix (2-D Array)"
   ]
  },
  {
   "cell_type": "code",
   "execution_count": 62,
   "metadata": {},
   "outputs": [
    {
     "name": "stdout",
     "output_type": "stream",
     "text": [
      "matrix (3, 4):\n",
      "[[ 1  2  3  4]\n",
      " [ 4  5  6  7]\n",
      " [ 7  8  9 10]]\n",
      "vector (3, 1): [[1]\n",
      " [2]\n",
      " [3]]\n",
      "Multiply: [[ 1  2  3  4]\n",
      " [ 8 10 12 14]\n",
      " [21 24 27 30]]\n"
     ]
    }
   ],
   "source": [
    "matrix = np.array([[1, 2, 3, 4],\n",
    "                   [4, 5, 6, 7],\n",
    "                   [7, 8, 9, 10]])\n",
    "vector = np.array([1, 2, 3])\n",
    "vector = vector.reshape(3, 1)\n",
    "print(f\"matrix {matrix.shape}:\\n{matrix}\")\n",
    "print(f\"vector {vector.shape}: {vector}\")\n",
    "#dot = np.dot(matrix, vector)\n",
    "#print(f\"Dot product: {dot}\")\n",
    "multiply = matrix * vector\n",
    "print(f\"Multiply: {multiply}\") "
   ]
  },
  {
   "cell_type": "markdown",
   "metadata": {},
   "source": [
    "### Without Vectorization"
   ]
  },
  {
   "cell_type": "code",
   "execution_count": 11,
   "metadata": {},
   "outputs": [
    {
     "name": "stdout",
     "output_type": "stream",
     "text": [
      "6.4\n"
     ]
    }
   ],
   "source": [
    "f = 0\n",
    "w = np.array([0.1, 0.2, 0.3])\n",
    "x = np.array([1.0, 2.0, 3.0])\n",
    "b = 5\n",
    "n = x.shape[0]\n",
    "for i in range(n):\n",
    "    f += w[i] * x[i]\n",
    "f += b\n",
    "print(f)"
   ]
  },
  {
   "cell_type": "markdown",
   "metadata": {},
   "source": [
    "### Vectorization"
   ]
  },
  {
   "cell_type": "code",
   "execution_count": 1,
   "metadata": {},
   "outputs": [],
   "source": [
    "import numpy as np"
   ]
  },
  {
   "cell_type": "code",
   "execution_count": 12,
   "metadata": {},
   "outputs": [
    {
     "data": {
      "text/plain": [
       "np.float64(6.4)"
      ]
     },
     "execution_count": 12,
     "metadata": {},
     "output_type": "execute_result"
    }
   ],
   "source": [
    "w = np.array([0.1, 0.2, 0.3])\n",
    "x = np.array([1.0, 2.0, 3.0])\n",
    "b = 5\n",
    "f = np.dot(w, x) + b\n",
    "f"
   ]
  }
 ],
 "metadata": {
  "kernelspec": {
   "display_name": "Python 3",
   "language": "python",
   "name": "python3"
  },
  "language_info": {
   "codemirror_mode": {
    "name": "ipython",
    "version": 3
   },
   "file_extension": ".py",
   "mimetype": "text/x-python",
   "name": "python",
   "nbconvert_exporter": "python",
   "pygments_lexer": "ipython3",
   "version": "3.10.0"
  }
 },
 "nbformat": 4,
 "nbformat_minor": 2
}
